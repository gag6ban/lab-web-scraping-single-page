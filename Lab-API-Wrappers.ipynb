{
 "cells": [
  {
   "cell_type": "markdown",
   "id": "8d964b3b",
   "metadata": {},
   "source": [
    "# Lab | API wrappers - Create your collection of songs & audio features"
   ]
  },
  {
   "cell_type": "markdown",
   "id": "544136aa",
   "metadata": {},
   "source": [
    "To move forward with the project, you need to create a collection of songs with their audio features - as large as possible! An idea for collecting as many songs as possible is to start with all the songs of a big, diverse playlist and then go to every artist present in the playlist and grab every song of every album of that artist. The amount of songs you'll be collecting per playlist will grow exponentially!\n",
    "\n",
    "\n",
    "Spotify objects are identified by either a \"url\", a \"uri\" or an \"id\".\n",
    "\n",
    "- The id is an alphanumeric code, and it's the nuclear part of the identifier.\n",
    "\n",
    "- The uri contains \"spotify:track\" before the id. An uri is useful because it can be searched manually in the Spotify app.\n",
    "\n",
    "- The url is a link to the song on the Spotify web player."
   ]
  },
  {
   "cell_type": "code",
   "execution_count": 28,
   "id": "01afa546",
   "metadata": {},
   "outputs": [],
   "source": [
    "#!pip install spotipy"
   ]
  },
  {
   "cell_type": "markdown",
   "id": "9cff7ee5",
   "metadata": {},
   "source": [
    "### Authentification"
   ]
  },
  {
   "cell_type": "code",
   "execution_count": 29,
   "id": "8d54d6ad",
   "metadata": {},
   "outputs": [],
   "source": [
    "import spotipy\n",
    "from spotipy.oauth2 import SpotifyClientCredentials\n",
    "\n",
    "#Initialize SpotiPy with user credentials\n",
    "#sp = spotipy.Spotify(auth_manager=SpotifyClientCredentials(client_id='<your client id here>',\n",
    "#                                                           client_secret='<your client secret here>'))"
   ]
  },
  {
   "cell_type": "markdown",
   "id": "f8c85a46",
   "metadata": {},
   "source": [
    "### Storing Secrets"
   ]
  },
  {
   "cell_type": "code",
   "execution_count": 30,
   "id": "432210db",
   "metadata": {},
   "outputs": [],
   "source": [
    "secrets_file = open(\"/Users/gau82/Ironhack/Week6/6.5 API wrappers, Spotipy/secrets.txt\",\"r\")"
   ]
  },
  {
   "cell_type": "code",
   "execution_count": 31,
   "id": "fe33947e",
   "metadata": {},
   "outputs": [],
   "source": [
    "string = secrets_file.read()"
   ]
  },
  {
   "cell_type": "code",
   "execution_count": 32,
   "id": "40cafff5",
   "metadata": {},
   "outputs": [
    {
     "name": "stdout",
     "output_type": "stream",
     "text": [
      "['cid', ' bccae7255f7b494ca17d15667489a8c1']\n",
      "['csecret', ' 35c0fbac88034b30bb324f686e32fc59']\n"
     ]
    }
   ],
   "source": [
    "secrets_dict={}\n",
    "for line in string.split('\\n'):\n",
    "    if len(line) > 0:\n",
    "        print(line.split(':'))\n",
    "        secrets_dict[line.split(':')[0]]=line.split(':')[1].strip()"
   ]
  },
  {
   "cell_type": "markdown",
   "id": "586a808a",
   "metadata": {},
   "source": [
    "Authentication with Secrets"
   ]
  },
  {
   "cell_type": "code",
   "execution_count": 33,
   "id": "8ae91844",
   "metadata": {},
   "outputs": [],
   "source": [
    "import spotipy\n",
    "from spotipy.oauth2 import SpotifyClientCredentials\n",
    "\n",
    "#Initialize SpotiPy with user credentials\n",
    "sp = spotipy.Spotify(auth_manager=SpotifyClientCredentials(client_id=secrets_dict['cid'],\n",
    "                                                           client_secret=secrets_dict['csecret']))"
   ]
  },
  {
   "cell_type": "markdown",
   "id": "421bfec4",
   "metadata": {},
   "source": [
    "# Handling large playlists"
   ]
  },
  {
   "cell_type": "markdown",
   "id": "eaffec4a",
   "metadata": {},
   "source": [
    "#### We will need to collect a \"database\" of songs. Playlists are a good way to access relatively large amounts of songs."
   ]
  },
  {
   "cell_type": "code",
   "execution_count": 34,
   "id": "ebedaa10",
   "metadata": {},
   "outputs": [],
   "source": [
    "# we will need more songs for our clustering\n",
    "playlist = sp.user_playlist_tracks(\"spotify\", \"1G8IpkZKobrIlXcVPoSIuf\")"
   ]
  },
  {
   "cell_type": "code",
   "execution_count": 35,
   "id": "54cafa2d",
   "metadata": {},
   "outputs": [
    {
     "data": {
      "text/plain": [
       "10000"
      ]
     },
     "execution_count": 35,
     "metadata": {},
     "output_type": "execute_result"
    }
   ],
   "source": [
    "playlist[\"total\"]"
   ]
  },
  {
   "cell_type": "code",
   "execution_count": 36,
   "id": "3eaa81b5",
   "metadata": {},
   "outputs": [
    {
     "data": {
      "text/plain": [
       "100"
      ]
     },
     "execution_count": 36,
     "metadata": {},
     "output_type": "execute_result"
    }
   ],
   "source": [
    "len(playlist[\"items\"])"
   ]
  },
  {
   "cell_type": "markdown",
   "id": "721d413d",
   "metadata": {},
   "source": [
    "### Function to extract all songs from a playlist"
   ]
  },
  {
   "cell_type": "code",
   "execution_count": 37,
   "id": "3d50a13a",
   "metadata": {},
   "outputs": [
    {
     "data": {
      "text/plain": [
       "'https://api.spotify.com/v1/playlists/1G8IpkZKobrIlXcVPoSIuf/tracks?offset=100&limit=100&additional_types=track'"
      ]
     },
     "execution_count": 37,
     "metadata": {},
     "output_type": "execute_result"
    }
   ],
   "source": [
    "playlist['next']"
   ]
  },
  {
   "cell_type": "code",
   "execution_count": null,
   "id": "a0597347",
   "metadata": {},
   "outputs": [],
   "source": [
    "#sp.next(playlist)"
   ]
  },
  {
   "cell_type": "code",
   "execution_count": 39,
   "id": "9d5e98b0",
   "metadata": {},
   "outputs": [],
   "source": [
    "from random import randint\n",
    "from time import sleep\n",
    "\n",
    "def get_playlist_tracks(playlist_id):\n",
    "    results = sp.user_playlist_tracks(\"spotify\",playlist_id)\n",
    "    tracks = results['items']\n",
    "    while results['next']!=None:\n",
    "        results = sp.next(results)\n",
    "        tracks = tracks + results['items']\n",
    "        sleep(randint(1,3000)/1000) # respectful nap\n",
    "    return tracks"
   ]
  },
  {
   "cell_type": "code",
   "execution_count": 40,
   "id": "087d6e52",
   "metadata": {},
   "outputs": [
    {
     "data": {
      "text/plain": [
       "10000"
      ]
     },
     "execution_count": 40,
     "metadata": {},
     "output_type": "execute_result"
    }
   ],
   "source": [
    "#this now holds all 10,000 songs and their artists\n",
    "#need to make it into a dataframe, once we've broken it down! \n",
    "\n",
    "all_tracks = get_playlist_tracks(\"1G8IpkZKobrIlXcVPoSIuf\")\n",
    "len(all_tracks)"
   ]
  },
  {
   "cell_type": "markdown",
   "id": "0b47116a",
   "metadata": {},
   "source": [
    "##### Method1: we ONLY need artist, name of song, and URI for the database"
   ]
  },
  {
   "cell_type": "code",
   "execution_count": null,
   "id": "8ea76069",
   "metadata": {},
   "outputs": [],
   "source": [
    "# all_tracks"
   ]
  },
  {
   "cell_type": "code",
   "execution_count": 90,
   "id": "06f59add",
   "metadata": {},
   "outputs": [
    {
     "data": {
      "text/plain": [
       "'spotify:track:3AhXZa8sUQht0UEdBJgpGc'"
      ]
     },
     "execution_count": 90,
     "metadata": {},
     "output_type": "execute_result"
    }
   ],
   "source": [
    "all_tracks[0]['track']['uri']"
   ]
  },
  {
   "cell_type": "code",
   "execution_count": 42,
   "id": "2bf3c336",
   "metadata": {},
   "outputs": [
    {
     "data": {
      "text/plain": [
       "'Bob Dylan'"
      ]
     },
     "execution_count": 42,
     "metadata": {},
     "output_type": "execute_result"
    }
   ],
   "source": [
    "all_tracks[0]['track']['artists'][0]['name']"
   ]
  },
  {
   "cell_type": "code",
   "execution_count": 43,
   "id": "5f6d2a16",
   "metadata": {},
   "outputs": [
    {
     "data": {
      "text/plain": [
       "'Like a Rolling Stone'"
      ]
     },
     "execution_count": 43,
     "metadata": {},
     "output_type": "execute_result"
    }
   ],
   "source": [
    "all_tracks[0]['track']['name']"
   ]
  },
  {
   "cell_type": "code",
   "execution_count": 44,
   "id": "8d9abd0a",
   "metadata": {},
   "outputs": [
    {
     "data": {
      "text/plain": [
       "'spotify:track:3AhXZa8sUQht0UEdBJgpGc'"
      ]
     },
     "execution_count": 44,
     "metadata": {},
     "output_type": "execute_result"
    }
   ],
   "source": [
    "all_tracks[0]['track']['uri']"
   ]
  },
  {
   "cell_type": "markdown",
   "id": "5caefd08",
   "metadata": {},
   "source": [
    "### Method2: Getting the artist, song name, and URI from each song of my playlist"
   ]
  },
  {
   "cell_type": "code",
   "execution_count": 45,
   "id": "5685896f",
   "metadata": {},
   "outputs": [],
   "source": [
    "# #first we need to get a list of individual tracks from the playlist\n",
    "# def get_name_artist_from_playlist_item(playlist_item):\n",
    "#     return get_name_artists_from_track(playlist_item['track'])"
   ]
  },
  {
   "cell_type": "code",
   "execution_count": 46,
   "id": "6a9a38eb",
   "metadata": {},
   "outputs": [],
   "source": [
    "# get_name_artist_from_playlist_item(results[\"items\"][0])"
   ]
  },
  {
   "cell_type": "code",
   "execution_count": 47,
   "id": "22bbab0e",
   "metadata": {},
   "outputs": [],
   "source": [
    "# def get_name_artists_from_playlist(input_playlist):\n",
    "#     return list(map(get_name_artist_from_playlist_item,input_playlist[\"items\"]))"
   ]
  },
  {
   "cell_type": "code",
   "execution_count": 48,
   "id": "c8b65d3c",
   "metadata": {},
   "outputs": [],
   "source": [
    "# get_name_artists_from_playlist(playlist)"
   ]
  },
  {
   "cell_type": "code",
   "execution_count": 49,
   "id": "a4642850",
   "metadata": {},
   "outputs": [],
   "source": [
    "# def get_name_artists_from_playlist(input_playlist):\n",
    "#     return flatten(list(map(get_name_artist_from_playlist_item,input_playlist[\"items\"])))"
   ]
  },
  {
   "cell_type": "code",
   "execution_count": 50,
   "id": "ebc1e523",
   "metadata": {},
   "outputs": [],
   "source": [
    "# df = get_name_artists_from_playlist(results)"
   ]
  },
  {
   "cell_type": "markdown",
   "id": "60e38112",
   "metadata": {},
   "source": [
    "#### Creating a Dataframe: "
   ]
  },
  {
   "cell_type": "code",
   "execution_count": 51,
   "id": "07ca2c9a",
   "metadata": {},
   "outputs": [],
   "source": [
    "# use a \"for\" loop to get the audio features, artists, and song names of all 10,000 songs in the playlist and\n",
    "# put them inside the lists, making sure to ignore the Nans"
   ]
  },
  {
   "cell_type": "code",
   "execution_count": 52,
   "id": "17474dd1",
   "metadata": {},
   "outputs": [],
   "source": [
    "#creating lists to hold song, artist, uri\n",
    "\n",
    "song_name = []   \n",
    "artist_name = []\n",
    "track_uri = []\n",
    "\n",
    "\n",
    "for i in range(len(all_tracks)):\n",
    "    try:\n",
    "        song = all_tracks[i]['track']['name']\n",
    "        artist = all_tracks[i][\"track\"][\"album\"]['artists'][0]['name']\n",
    "        uri = all_tracks[i]['track']['uri']\n",
    "        \n",
    "        artist_name.append(artist)\n",
    "        song_name.append(song)\n",
    "        track_uri.append(uri)\n",
    "    except:\n",
    "        artist_name.append('none')\n",
    "        song_name.append('none')\n",
    "        track_uri.append('none')"
   ]
  },
  {
   "cell_type": "code",
   "execution_count": 54,
   "id": "94eff8d5",
   "metadata": {},
   "outputs": [],
   "source": [
    "import pandas as pd\n",
    "\n",
    "spotify_df=pd.DataFrame({'song': song_name,'artist': artist_name,'uri': track_uri})"
   ]
  },
  {
   "cell_type": "code",
   "execution_count": 94,
   "id": "94ddbdf4",
   "metadata": {},
   "outputs": [
    {
     "data": {
      "text/html": [
       "<div>\n",
       "<style scoped>\n",
       "    .dataframe tbody tr th:only-of-type {\n",
       "        vertical-align: middle;\n",
       "    }\n",
       "\n",
       "    .dataframe tbody tr th {\n",
       "        vertical-align: top;\n",
       "    }\n",
       "\n",
       "    .dataframe thead th {\n",
       "        text-align: right;\n",
       "    }\n",
       "</style>\n",
       "<table border=\"1\" class=\"dataframe\">\n",
       "  <thead>\n",
       "    <tr style=\"text-align: right;\">\n",
       "      <th></th>\n",
       "      <th>song</th>\n",
       "      <th>artist</th>\n",
       "      <th>uri</th>\n",
       "    </tr>\n",
       "  </thead>\n",
       "  <tbody>\n",
       "    <tr>\n",
       "      <th>0</th>\n",
       "      <td>Like a Rolling Stone</td>\n",
       "      <td>Bob Dylan</td>\n",
       "      <td>spotify:track:3AhXZa8sUQht0UEdBJgpGc</td>\n",
       "    </tr>\n",
       "    <tr>\n",
       "      <th>1</th>\n",
       "      <td>Smells Like Teen Spirit</td>\n",
       "      <td>Nirvana</td>\n",
       "      <td>spotify:track:3oTlkzk1OtrhH8wBAduVEi</td>\n",
       "    </tr>\n",
       "    <tr>\n",
       "      <th>2</th>\n",
       "      <td>A Day In The Life - Remastered</td>\n",
       "      <td>The Beatles</td>\n",
       "      <td>spotify:track:3ZFBeIyP41HhnALjxWy1pR</td>\n",
       "    </tr>\n",
       "    <tr>\n",
       "      <th>3</th>\n",
       "      <td>Good Vibrations (Mono)</td>\n",
       "      <td>The Beach Boys</td>\n",
       "      <td>spotify:track:5Qt4Cc66g24QWwGP3YYV9y</td>\n",
       "    </tr>\n",
       "    <tr>\n",
       "      <th>4</th>\n",
       "      <td>Johnny B Goode</td>\n",
       "      <td>Chuck Berry</td>\n",
       "      <td>spotify:track:7MH2ZclofPlTrZOkPzZKhK</td>\n",
       "    </tr>\n",
       "  </tbody>\n",
       "</table>\n",
       "</div>"
      ],
      "text/plain": [
       "                             song          artist  \\\n",
       "0            Like a Rolling Stone       Bob Dylan   \n",
       "1         Smells Like Teen Spirit         Nirvana   \n",
       "2  A Day In The Life - Remastered     The Beatles   \n",
       "3          Good Vibrations (Mono)  The Beach Boys   \n",
       "4                  Johnny B Goode     Chuck Berry   \n",
       "\n",
       "                                    uri  \n",
       "0  spotify:track:3AhXZa8sUQht0UEdBJgpGc  \n",
       "1  spotify:track:3oTlkzk1OtrhH8wBAduVEi  \n",
       "2  spotify:track:3ZFBeIyP41HhnALjxWy1pR  \n",
       "3  spotify:track:5Qt4Cc66g24QWwGP3YYV9y  \n",
       "4  spotify:track:7MH2ZclofPlTrZOkPzZKhK  "
      ]
     },
     "execution_count": 94,
     "metadata": {},
     "output_type": "execute_result"
    }
   ],
   "source": [
    "spotify_df.head()"
   ]
  },
  {
   "cell_type": "code",
   "execution_count": null,
   "id": "2f51b723",
   "metadata": {},
   "outputs": [],
   "source": [
    "spotify_df.song.value_counts()\n",
    "spotify_df\n",
    "#can see there are 53 \"nones\""
   ]
  },
  {
   "cell_type": "code",
   "execution_count": null,
   "id": "9266b1c6",
   "metadata": {},
   "outputs": [],
   "source": [
    "spotify_df.artist.value_counts()"
   ]
  },
  {
   "cell_type": "code",
   "execution_count": null,
   "id": "3ff04182",
   "metadata": {},
   "outputs": [],
   "source": [
    "# spotify_df.isna().sum()\n",
    "sum(spotify_df.duplicated())"
   ]
  },
  {
   "cell_type": "code",
   "execution_count": 202,
   "id": "ccdf4782",
   "metadata": {},
   "outputs": [],
   "source": [
    "spotify_df.to_csv('spotify_df.csv', index=False)"
   ]
  },
  {
   "cell_type": "markdown",
   "id": "7388aa97",
   "metadata": {},
   "source": [
    "# Audio features"
   ]
  },
  {
   "cell_type": "code",
   "execution_count": 96,
   "id": "3a1b0914",
   "metadata": {},
   "outputs": [
    {
     "data": {
      "text/plain": [
       "'spotify:track:3AhXZa8sUQht0UEdBJgpGc'"
      ]
     },
     "execution_count": 96,
     "metadata": {},
     "output_type": "execute_result"
    }
   ],
   "source": [
    "# get the uri of a single song:\n",
    "song_uri = all_tracks[0]['track']['uri']\n",
    "song_uri"
   ]
  },
  {
   "cell_type": "code",
   "execution_count": 57,
   "id": "2c731ebf",
   "metadata": {},
   "outputs": [
    {
     "data": {
      "text/plain": [
       "[{'danceability': 0.63,\n",
       "  'energy': 0.616,\n",
       "  'key': 1,\n",
       "  'loudness': -8.128,\n",
       "  'mode': 0,\n",
       "  'speechiness': 0.0309,\n",
       "  'acousticness': 0.463,\n",
       "  'instrumentalness': 0.0408,\n",
       "  'liveness': 0.173,\n",
       "  'valence': 0.509,\n",
       "  'tempo': 118.65,\n",
       "  'type': 'audio_features',\n",
       "  'id': '1dv3ePjze9tPq2pk8eWJdR',\n",
       "  'uri': 'spotify:track:1dv3ePjze9tPq2pk8eWJdR',\n",
       "  'track_href': 'https://api.spotify.com/v1/tracks/1dv3ePjze9tPq2pk8eWJdR',\n",
       "  'analysis_url': 'https://api.spotify.com/v1/audio-analysis/1dv3ePjze9tPq2pk8eWJdR',\n",
       "  'duration_ms': 270773,\n",
       "  'time_signature': 4}]"
      ]
     },
     "execution_count": 57,
     "metadata": {},
     "output_type": "execute_result"
    }
   ],
   "source": [
    "# get the audio features for that song\n",
    "sp.audio_features(song_uri)"
   ]
  },
  {
   "cell_type": "code",
   "execution_count": 74,
   "id": "f2f0e7bc",
   "metadata": {},
   "outputs": [
    {
     "data": {
      "text/plain": [
       "'spotify:track:13KEdaWIc7T6ozEmnJjHy1'"
      ]
     },
     "execution_count": 74,
     "metadata": {},
     "output_type": "execute_result"
    }
   ],
   "source": [
    "song_uri1 = playlist[\"items\"][50][\"track\"][\"uri\"]\n",
    "song_uri1"
   ]
  },
  {
   "cell_type": "code",
   "execution_count": 75,
   "id": "619a9824",
   "metadata": {},
   "outputs": [],
   "source": [
    "# get the audio features for that song\n",
    "list1 = sp.audio_features(song_uri1)"
   ]
  },
  {
   "cell_type": "code",
   "execution_count": 95,
   "id": "274b9d82",
   "metadata": {},
   "outputs": [],
   "source": [
    "%%time\n",
    "list_af = []\n",
    "for x in spotify_df['uri']:\n",
    "    song = sp.audio_features(x)\n",
    "    list_af.append(song)"
   ]
  },
  {
   "cell_type": "code",
   "execution_count": 107,
   "id": "ee2a1650",
   "metadata": {},
   "outputs": [
    {
     "data": {
      "text/html": [
       "<div>\n",
       "<style scoped>\n",
       "    .dataframe tbody tr th:only-of-type {\n",
       "        vertical-align: middle;\n",
       "    }\n",
       "\n",
       "    .dataframe tbody tr th {\n",
       "        vertical-align: top;\n",
       "    }\n",
       "\n",
       "    .dataframe thead th {\n",
       "        text-align: right;\n",
       "    }\n",
       "</style>\n",
       "<table border=\"1\" class=\"dataframe\">\n",
       "  <thead>\n",
       "    <tr style=\"text-align: right;\">\n",
       "      <th></th>\n",
       "      <th>features</th>\n",
       "    </tr>\n",
       "  </thead>\n",
       "  <tbody>\n",
       "    <tr>\n",
       "      <th>0</th>\n",
       "      <td>{'danceability': 0.482, 'energy': 0.721, 'key'...</td>\n",
       "    </tr>\n",
       "    <tr>\n",
       "      <th>1</th>\n",
       "      <td>{'danceability': 0.485, 'energy': 0.863, 'key'...</td>\n",
       "    </tr>\n",
       "    <tr>\n",
       "      <th>2</th>\n",
       "      <td>{'danceability': 0.364, 'energy': 0.457, 'key'...</td>\n",
       "    </tr>\n",
       "    <tr>\n",
       "      <th>3</th>\n",
       "      <td>{'danceability': 0.398, 'energy': 0.413, 'key'...</td>\n",
       "    </tr>\n",
       "    <tr>\n",
       "      <th>4</th>\n",
       "      <td>{'danceability': 0.518, 'energy': 0.756, 'key'...</td>\n",
       "    </tr>\n",
       "    <tr>\n",
       "      <th>...</th>\n",
       "      <td>...</td>\n",
       "    </tr>\n",
       "    <tr>\n",
       "      <th>9995</th>\n",
       "      <td>{'danceability': 0.332, 'energy': 0.707, 'key'...</td>\n",
       "    </tr>\n",
       "    <tr>\n",
       "      <th>9996</th>\n",
       "      <td>{'danceability': 0.464, 'energy': 0.749, 'key'...</td>\n",
       "    </tr>\n",
       "    <tr>\n",
       "      <th>9997</th>\n",
       "      <td>{'danceability': 0.694, 'energy': 0.71, 'key':...</td>\n",
       "    </tr>\n",
       "    <tr>\n",
       "      <th>9998</th>\n",
       "      <td>{'danceability': 0.332, 'energy': 0.8, 'key': ...</td>\n",
       "    </tr>\n",
       "    <tr>\n",
       "      <th>9999</th>\n",
       "      <td>{'danceability': 0.499, 'energy': 0.763, 'key'...</td>\n",
       "    </tr>\n",
       "  </tbody>\n",
       "</table>\n",
       "<p>10000 rows × 1 columns</p>\n",
       "</div>"
      ],
      "text/plain": [
       "                                               features\n",
       "0     {'danceability': 0.482, 'energy': 0.721, 'key'...\n",
       "1     {'danceability': 0.485, 'energy': 0.863, 'key'...\n",
       "2     {'danceability': 0.364, 'energy': 0.457, 'key'...\n",
       "3     {'danceability': 0.398, 'energy': 0.413, 'key'...\n",
       "4     {'danceability': 0.518, 'energy': 0.756, 'key'...\n",
       "...                                                 ...\n",
       "9995  {'danceability': 0.332, 'energy': 0.707, 'key'...\n",
       "9996  {'danceability': 0.464, 'energy': 0.749, 'key'...\n",
       "9997  {'danceability': 0.694, 'energy': 0.71, 'key':...\n",
       "9998  {'danceability': 0.332, 'energy': 0.8, 'key': ...\n",
       "9999  {'danceability': 0.499, 'energy': 0.763, 'key'...\n",
       "\n",
       "[10000 rows x 1 columns]"
      ]
     },
     "execution_count": 107,
     "metadata": {},
     "output_type": "execute_result"
    }
   ],
   "source": [
    "spotify_af = pd.DataFrame(list_af)\n",
    "# spotify_af.reset_index(inplace=True)\n",
    "spotify_af.columns = ['features']\n",
    "spotify_af"
   ]
  },
  {
   "cell_type": "code",
   "execution_count": 99,
   "id": "7850762c",
   "metadata": {},
   "outputs": [],
   "source": [
    "def flatten(data, col_list):\n",
    "    for column in col_list:\n",
    "        flattened = pd.DataFrame(dict(data[column])).transpose()\n",
    "        columns = [str(col) for col in flattened.columns]\n",
    "        flattened.columns = [column + '_' + colname for colname in columns]\n",
    "        data = pd.concat([data, flattened], axis=1)\n",
    "        data = data.drop(column, axis=1)\n",
    "    return data"
   ]
  },
  {
   "cell_type": "code",
   "execution_count": 108,
   "id": "479e24aa",
   "metadata": {},
   "outputs": [],
   "source": [
    "spotify_df1 = flatten(spotify_af,['features'])"
   ]
  },
  {
   "cell_type": "code",
   "execution_count": 155,
   "id": "95cdd5ae",
   "metadata": {},
   "outputs": [
    {
     "data": {
      "text/html": [
       "<div>\n",
       "<style scoped>\n",
       "    .dataframe tbody tr th:only-of-type {\n",
       "        vertical-align: middle;\n",
       "    }\n",
       "\n",
       "    .dataframe tbody tr th {\n",
       "        vertical-align: top;\n",
       "    }\n",
       "\n",
       "    .dataframe thead th {\n",
       "        text-align: right;\n",
       "    }\n",
       "</style>\n",
       "<table border=\"1\" class=\"dataframe\">\n",
       "  <thead>\n",
       "    <tr style=\"text-align: right;\">\n",
       "      <th></th>\n",
       "      <th>features_danceability</th>\n",
       "      <th>features_energy</th>\n",
       "      <th>features_key</th>\n",
       "      <th>features_loudness</th>\n",
       "      <th>features_mode</th>\n",
       "      <th>features_speechiness</th>\n",
       "      <th>features_acousticness</th>\n",
       "      <th>features_instrumentalness</th>\n",
       "      <th>features_liveness</th>\n",
       "      <th>features_valence</th>\n",
       "      <th>features_tempo</th>\n",
       "      <th>features_type</th>\n",
       "      <th>features_id</th>\n",
       "      <th>features_uri</th>\n",
       "      <th>features_track_href</th>\n",
       "      <th>features_analysis_url</th>\n",
       "      <th>features_duration_ms</th>\n",
       "      <th>features_time_signature</th>\n",
       "    </tr>\n",
       "  </thead>\n",
       "  <tbody>\n",
       "    <tr>\n",
       "      <th>0</th>\n",
       "      <td>0.482</td>\n",
       "      <td>0.721</td>\n",
       "      <td>0</td>\n",
       "      <td>-6.839</td>\n",
       "      <td>1</td>\n",
       "      <td>0.0321</td>\n",
       "      <td>0.731</td>\n",
       "      <td>0</td>\n",
       "      <td>0.189</td>\n",
       "      <td>0.557</td>\n",
       "      <td>95.263</td>\n",
       "      <td>audio_features</td>\n",
       "      <td>3AhXZa8sUQht0UEdBJgpGc</td>\n",
       "      <td>spotify:track:3AhXZa8sUQht0UEdBJgpGc</td>\n",
       "      <td>https://api.spotify.com/v1/tracks/3AhXZa8sUQht...</td>\n",
       "      <td>https://api.spotify.com/v1/audio-analysis/3AhX...</td>\n",
       "      <td>369600</td>\n",
       "      <td>4</td>\n",
       "    </tr>\n",
       "    <tr>\n",
       "      <th>1</th>\n",
       "      <td>0.485</td>\n",
       "      <td>0.863</td>\n",
       "      <td>1</td>\n",
       "      <td>-9.027</td>\n",
       "      <td>1</td>\n",
       "      <td>0.0495</td>\n",
       "      <td>0.000012</td>\n",
       "      <td>0.0162</td>\n",
       "      <td>0.138</td>\n",
       "      <td>0.767</td>\n",
       "      <td>116.835</td>\n",
       "      <td>audio_features</td>\n",
       "      <td>3oTlkzk1OtrhH8wBAduVEi</td>\n",
       "      <td>spotify:track:3oTlkzk1OtrhH8wBAduVEi</td>\n",
       "      <td>https://api.spotify.com/v1/tracks/3oTlkzk1Otrh...</td>\n",
       "      <td>https://api.spotify.com/v1/audio-analysis/3oTl...</td>\n",
       "      <td>300977</td>\n",
       "      <td>4</td>\n",
       "    </tr>\n",
       "    <tr>\n",
       "      <th>2</th>\n",
       "      <td>0.364</td>\n",
       "      <td>0.457</td>\n",
       "      <td>4</td>\n",
       "      <td>-14.162</td>\n",
       "      <td>0</td>\n",
       "      <td>0.0675</td>\n",
       "      <td>0.29</td>\n",
       "      <td>0.000106</td>\n",
       "      <td>0.922</td>\n",
       "      <td>0.175</td>\n",
       "      <td>163.219</td>\n",
       "      <td>audio_features</td>\n",
       "      <td>3ZFBeIyP41HhnALjxWy1pR</td>\n",
       "      <td>spotify:track:3ZFBeIyP41HhnALjxWy1pR</td>\n",
       "      <td>https://api.spotify.com/v1/tracks/3ZFBeIyP41Hh...</td>\n",
       "      <td>https://api.spotify.com/v1/audio-analysis/3ZFB...</td>\n",
       "      <td>337413</td>\n",
       "      <td>4</td>\n",
       "    </tr>\n",
       "    <tr>\n",
       "      <th>3</th>\n",
       "      <td>0.398</td>\n",
       "      <td>0.413</td>\n",
       "      <td>1</td>\n",
       "      <td>-10.934</td>\n",
       "      <td>1</td>\n",
       "      <td>0.0388</td>\n",
       "      <td>0.0822</td>\n",
       "      <td>0.000025</td>\n",
       "      <td>0.0891</td>\n",
       "      <td>0.331</td>\n",
       "      <td>133.574</td>\n",
       "      <td>audio_features</td>\n",
       "      <td>5Qt4Cc66g24QWwGP3YYV9y</td>\n",
       "      <td>spotify:track:5Qt4Cc66g24QWwGP3YYV9y</td>\n",
       "      <td>https://api.spotify.com/v1/tracks/5Qt4Cc66g24Q...</td>\n",
       "      <td>https://api.spotify.com/v1/audio-analysis/5Qt4...</td>\n",
       "      <td>219147</td>\n",
       "      <td>4</td>\n",
       "    </tr>\n",
       "    <tr>\n",
       "      <th>4</th>\n",
       "      <td>0.518</td>\n",
       "      <td>0.756</td>\n",
       "      <td>10</td>\n",
       "      <td>-10.851</td>\n",
       "      <td>1</td>\n",
       "      <td>0.0915</td>\n",
       "      <td>0.735</td>\n",
       "      <td>0.000062</td>\n",
       "      <td>0.317</td>\n",
       "      <td>0.968</td>\n",
       "      <td>166.429</td>\n",
       "      <td>audio_features</td>\n",
       "      <td>7MH2ZclofPlTrZOkPzZKhK</td>\n",
       "      <td>spotify:track:7MH2ZclofPlTrZOkPzZKhK</td>\n",
       "      <td>https://api.spotify.com/v1/tracks/7MH2ZclofPlT...</td>\n",
       "      <td>https://api.spotify.com/v1/audio-analysis/7MH2...</td>\n",
       "      <td>160893</td>\n",
       "      <td>4</td>\n",
       "    </tr>\n",
       "  </tbody>\n",
       "</table>\n",
       "</div>"
      ],
      "text/plain": [
       "  features_danceability features_energy features_key features_loudness  \\\n",
       "0                 0.482           0.721            0            -6.839   \n",
       "1                 0.485           0.863            1            -9.027   \n",
       "2                 0.364           0.457            4           -14.162   \n",
       "3                 0.398           0.413            1           -10.934   \n",
       "4                 0.518           0.756           10           -10.851   \n",
       "\n",
       "  features_mode features_speechiness features_acousticness  \\\n",
       "0             1               0.0321                 0.731   \n",
       "1             1               0.0495              0.000012   \n",
       "2             0               0.0675                  0.29   \n",
       "3             1               0.0388                0.0822   \n",
       "4             1               0.0915                 0.735   \n",
       "\n",
       "  features_instrumentalness features_liveness features_valence features_tempo  \\\n",
       "0                         0             0.189            0.557         95.263   \n",
       "1                    0.0162             0.138            0.767        116.835   \n",
       "2                  0.000106             0.922            0.175        163.219   \n",
       "3                  0.000025            0.0891            0.331        133.574   \n",
       "4                  0.000062             0.317            0.968        166.429   \n",
       "\n",
       "    features_type             features_id  \\\n",
       "0  audio_features  3AhXZa8sUQht0UEdBJgpGc   \n",
       "1  audio_features  3oTlkzk1OtrhH8wBAduVEi   \n",
       "2  audio_features  3ZFBeIyP41HhnALjxWy1pR   \n",
       "3  audio_features  5Qt4Cc66g24QWwGP3YYV9y   \n",
       "4  audio_features  7MH2ZclofPlTrZOkPzZKhK   \n",
       "\n",
       "                           features_uri  \\\n",
       "0  spotify:track:3AhXZa8sUQht0UEdBJgpGc   \n",
       "1  spotify:track:3oTlkzk1OtrhH8wBAduVEi   \n",
       "2  spotify:track:3ZFBeIyP41HhnALjxWy1pR   \n",
       "3  spotify:track:5Qt4Cc66g24QWwGP3YYV9y   \n",
       "4  spotify:track:7MH2ZclofPlTrZOkPzZKhK   \n",
       "\n",
       "                                 features_track_href  \\\n",
       "0  https://api.spotify.com/v1/tracks/3AhXZa8sUQht...   \n",
       "1  https://api.spotify.com/v1/tracks/3oTlkzk1Otrh...   \n",
       "2  https://api.spotify.com/v1/tracks/3ZFBeIyP41Hh...   \n",
       "3  https://api.spotify.com/v1/tracks/5Qt4Cc66g24Q...   \n",
       "4  https://api.spotify.com/v1/tracks/7MH2ZclofPlT...   \n",
       "\n",
       "                               features_analysis_url features_duration_ms  \\\n",
       "0  https://api.spotify.com/v1/audio-analysis/3AhX...               369600   \n",
       "1  https://api.spotify.com/v1/audio-analysis/3oTl...               300977   \n",
       "2  https://api.spotify.com/v1/audio-analysis/3ZFB...               337413   \n",
       "3  https://api.spotify.com/v1/audio-analysis/5Qt4...               219147   \n",
       "4  https://api.spotify.com/v1/audio-analysis/7MH2...               160893   \n",
       "\n",
       "  features_time_signature  \n",
       "0                       4  \n",
       "1                       4  \n",
       "2                       4  \n",
       "3                       4  \n",
       "4                       4  "
      ]
     },
     "execution_count": 155,
     "metadata": {},
     "output_type": "execute_result"
    }
   ],
   "source": [
    "spotify_df1.head(5)"
   ]
  },
  {
   "cell_type": "code",
   "execution_count": 113,
   "id": "8c0e5832",
   "metadata": {},
   "outputs": [
    {
     "name": "stdout",
     "output_type": "stream",
     "text": [
      "<class 'pandas.core.frame.DataFrame'>\n",
      "RangeIndex: 10000 entries, 0 to 9999\n",
      "Data columns (total 18 columns):\n",
      " #   Column                     Non-Null Count  Dtype \n",
      "---  ------                     --------------  ----- \n",
      " 0   features_danceability      9947 non-null   object\n",
      " 1   features_energy            9947 non-null   object\n",
      " 2   features_key               9947 non-null   object\n",
      " 3   features_loudness          9947 non-null   object\n",
      " 4   features_mode              9947 non-null   object\n",
      " 5   features_speechiness       9947 non-null   object\n",
      " 6   features_acousticness      9947 non-null   object\n",
      " 7   features_instrumentalness  9947 non-null   object\n",
      " 8   features_liveness          9947 non-null   object\n",
      " 9   features_valence           9947 non-null   object\n",
      " 10  features_tempo             9947 non-null   object\n",
      " 11  features_type              9947 non-null   object\n",
      " 12  features_id                9947 non-null   object\n",
      " 13  features_uri               9947 non-null   object\n",
      " 14  features_track_href        9947 non-null   object\n",
      " 15  features_analysis_url      9947 non-null   object\n",
      " 16  features_duration_ms       9947 non-null   object\n",
      " 17  features_time_signature    9947 non-null   object\n",
      "dtypes: object(18)\n",
      "memory usage: 1.4+ MB\n"
     ]
    }
   ],
   "source": [
    "spotify_df1.columns\n",
    "spotify_df1.dtypes\n",
    "spotify_df1.info()"
   ]
  },
  {
   "cell_type": "code",
   "execution_count": 174,
   "id": "1813869b",
   "metadata": {},
   "outputs": [],
   "source": [
    "# Dropping all categorical column(s): I just tried to kept those columns which has numbers in it and dropped others !!\n",
    "# I dropped features_duration_ms beacuse the values were far too high when compared to other features !!\n",
    "\n",
    "spotify_df1_num = spotify_df1.drop(['features_type', 'features_id','features_uri', 'features_track_href', 'features_analysis_url', 'features_time_signature', 'features_duration_ms'], axis=1)"
   ]
  },
  {
   "cell_type": "code",
   "execution_count": 175,
   "id": "0ea2d9b4",
   "metadata": {},
   "outputs": [
    {
     "data": {
      "text/html": [
       "<div>\n",
       "<style scoped>\n",
       "    .dataframe tbody tr th:only-of-type {\n",
       "        vertical-align: middle;\n",
       "    }\n",
       "\n",
       "    .dataframe tbody tr th {\n",
       "        vertical-align: top;\n",
       "    }\n",
       "\n",
       "    .dataframe thead th {\n",
       "        text-align: right;\n",
       "    }\n",
       "</style>\n",
       "<table border=\"1\" class=\"dataframe\">\n",
       "  <thead>\n",
       "    <tr style=\"text-align: right;\">\n",
       "      <th></th>\n",
       "      <th>features_danceability</th>\n",
       "      <th>features_energy</th>\n",
       "      <th>features_key</th>\n",
       "      <th>features_loudness</th>\n",
       "      <th>features_mode</th>\n",
       "      <th>features_speechiness</th>\n",
       "      <th>features_acousticness</th>\n",
       "      <th>features_instrumentalness</th>\n",
       "      <th>features_liveness</th>\n",
       "      <th>features_valence</th>\n",
       "      <th>features_tempo</th>\n",
       "    </tr>\n",
       "  </thead>\n",
       "  <tbody>\n",
       "    <tr>\n",
       "      <th>0</th>\n",
       "      <td>0.482</td>\n",
       "      <td>0.721</td>\n",
       "      <td>0</td>\n",
       "      <td>-6.839</td>\n",
       "      <td>1</td>\n",
       "      <td>0.0321</td>\n",
       "      <td>0.731</td>\n",
       "      <td>0</td>\n",
       "      <td>0.189</td>\n",
       "      <td>0.557</td>\n",
       "      <td>95.263</td>\n",
       "    </tr>\n",
       "    <tr>\n",
       "      <th>1</th>\n",
       "      <td>0.485</td>\n",
       "      <td>0.863</td>\n",
       "      <td>1</td>\n",
       "      <td>-9.027</td>\n",
       "      <td>1</td>\n",
       "      <td>0.0495</td>\n",
       "      <td>0.000012</td>\n",
       "      <td>0.0162</td>\n",
       "      <td>0.138</td>\n",
       "      <td>0.767</td>\n",
       "      <td>116.835</td>\n",
       "    </tr>\n",
       "    <tr>\n",
       "      <th>2</th>\n",
       "      <td>0.364</td>\n",
       "      <td>0.457</td>\n",
       "      <td>4</td>\n",
       "      <td>-14.162</td>\n",
       "      <td>0</td>\n",
       "      <td>0.0675</td>\n",
       "      <td>0.29</td>\n",
       "      <td>0.000106</td>\n",
       "      <td>0.922</td>\n",
       "      <td>0.175</td>\n",
       "      <td>163.219</td>\n",
       "    </tr>\n",
       "    <tr>\n",
       "      <th>3</th>\n",
       "      <td>0.398</td>\n",
       "      <td>0.413</td>\n",
       "      <td>1</td>\n",
       "      <td>-10.934</td>\n",
       "      <td>1</td>\n",
       "      <td>0.0388</td>\n",
       "      <td>0.0822</td>\n",
       "      <td>0.000025</td>\n",
       "      <td>0.0891</td>\n",
       "      <td>0.331</td>\n",
       "      <td>133.574</td>\n",
       "    </tr>\n",
       "    <tr>\n",
       "      <th>4</th>\n",
       "      <td>0.518</td>\n",
       "      <td>0.756</td>\n",
       "      <td>10</td>\n",
       "      <td>-10.851</td>\n",
       "      <td>1</td>\n",
       "      <td>0.0915</td>\n",
       "      <td>0.735</td>\n",
       "      <td>0.000062</td>\n",
       "      <td>0.317</td>\n",
       "      <td>0.968</td>\n",
       "      <td>166.429</td>\n",
       "    </tr>\n",
       "  </tbody>\n",
       "</table>\n",
       "</div>"
      ],
      "text/plain": [
       "  features_danceability features_energy features_key features_loudness  \\\n",
       "0                 0.482           0.721            0            -6.839   \n",
       "1                 0.485           0.863            1            -9.027   \n",
       "2                 0.364           0.457            4           -14.162   \n",
       "3                 0.398           0.413            1           -10.934   \n",
       "4                 0.518           0.756           10           -10.851   \n",
       "\n",
       "  features_mode features_speechiness features_acousticness  \\\n",
       "0             1               0.0321                 0.731   \n",
       "1             1               0.0495              0.000012   \n",
       "2             0               0.0675                  0.29   \n",
       "3             1               0.0388                0.0822   \n",
       "4             1               0.0915                 0.735   \n",
       "\n",
       "  features_instrumentalness features_liveness features_valence features_tempo  \n",
       "0                         0             0.189            0.557         95.263  \n",
       "1                    0.0162             0.138            0.767        116.835  \n",
       "2                  0.000106             0.922            0.175        163.219  \n",
       "3                  0.000025            0.0891            0.331        133.574  \n",
       "4                  0.000062             0.317            0.968        166.429  "
      ]
     },
     "execution_count": 175,
     "metadata": {},
     "output_type": "execute_result"
    }
   ],
   "source": [
    "spotify_df1_num.head(5)\n",
    "# spotify_df1_num.isna().sum()\n",
    "# spotify_df1_num.shape"
   ]
  },
  {
   "cell_type": "code",
   "execution_count": 176,
   "id": "b004e168",
   "metadata": {},
   "outputs": [],
   "source": [
    "spotify_df1_num=spotify_df1_num.dropna()"
   ]
  },
  {
   "cell_type": "code",
   "execution_count": 203,
   "id": "44841379",
   "metadata": {},
   "outputs": [],
   "source": [
    "spotify_df1.to_csv('spotify_df1.csv', index=False)"
   ]
  },
  {
   "cell_type": "markdown",
   "id": "494c8e80",
   "metadata": {},
   "source": [
    "# Unsupervised Machine Learning Lab | Clustering"
   ]
  },
  {
   "cell_type": "markdown",
   "id": "2cef40a1",
   "metadata": {},
   "source": [
    "It's the moment to perform clustering on the songs you collected.\n",
    "\n",
    "Remember that the ultimate goal of this little project is to improve the recommendations of artists.\n",
    "\n",
    "Clustering the songs will allow the recommendation system to limit the scope of the recommendations to only songs\n",
    "\n",
    "that belong to the same cluster - songs with similar audio features."
   ]
  },
  {
   "cell_type": "code",
   "execution_count": 148,
   "id": "e5d907dc",
   "metadata": {},
   "outputs": [],
   "source": [
    "from sklearn import cluster, datasets\n",
    "from sklearn.preprocessing import StandardScaler\n",
    "from matplotlib.lines import Line2D\n",
    "from sklearn.preprocessing import StandardScaler\n",
    "from sklearn.cluster import KMeans\n",
    "from sklearn.metrics import silhouette_score\n",
    "import numpy as np"
   ]
  },
  {
   "cell_type": "code",
   "execution_count": 177,
   "id": "da01f4fe",
   "metadata": {},
   "outputs": [],
   "source": [
    "# numericals = df.select_dtypes(include= np.number)\n",
    "# df.astype()\n",
    "\n",
    "for i in spotify_df1_num.columns:\n",
    "    spotify_df1_num[i]=pd.to_numeric(spotify_df1_num[i],errors='coerce')"
   ]
  },
  {
   "cell_type": "code",
   "execution_count": 178,
   "id": "5e107ad6",
   "metadata": {},
   "outputs": [
    {
     "data": {
      "text/html": [
       "<div>\n",
       "<style scoped>\n",
       "    .dataframe tbody tr th:only-of-type {\n",
       "        vertical-align: middle;\n",
       "    }\n",
       "\n",
       "    .dataframe tbody tr th {\n",
       "        vertical-align: top;\n",
       "    }\n",
       "\n",
       "    .dataframe thead th {\n",
       "        text-align: right;\n",
       "    }\n",
       "</style>\n",
       "<table border=\"1\" class=\"dataframe\">\n",
       "  <thead>\n",
       "    <tr style=\"text-align: right;\">\n",
       "      <th></th>\n",
       "      <th>count</th>\n",
       "      <th>mean</th>\n",
       "      <th>std</th>\n",
       "      <th>min</th>\n",
       "      <th>25%</th>\n",
       "      <th>50%</th>\n",
       "      <th>75%</th>\n",
       "      <th>max</th>\n",
       "    </tr>\n",
       "  </thead>\n",
       "  <tbody>\n",
       "    <tr>\n",
       "      <th>features_danceability</th>\n",
       "      <td>9947.0</td>\n",
       "      <td>0.565515</td>\n",
       "      <td>0.166720</td>\n",
       "      <td>0.06920</td>\n",
       "      <td>0.451000</td>\n",
       "      <td>0.568000</td>\n",
       "      <td>0.6850</td>\n",
       "      <td>0.988</td>\n",
       "    </tr>\n",
       "    <tr>\n",
       "      <th>features_energy</th>\n",
       "      <td>9947.0</td>\n",
       "      <td>0.616766</td>\n",
       "      <td>0.233720</td>\n",
       "      <td>0.00002</td>\n",
       "      <td>0.450500</td>\n",
       "      <td>0.651000</td>\n",
       "      <td>0.8090</td>\n",
       "      <td>0.998</td>\n",
       "    </tr>\n",
       "    <tr>\n",
       "      <th>features_key</th>\n",
       "      <td>9947.0</td>\n",
       "      <td>5.291344</td>\n",
       "      <td>3.542447</td>\n",
       "      <td>0.00000</td>\n",
       "      <td>2.000000</td>\n",
       "      <td>5.000000</td>\n",
       "      <td>9.0000</td>\n",
       "      <td>11.000</td>\n",
       "    </tr>\n",
       "    <tr>\n",
       "      <th>features_loudness</th>\n",
       "      <td>9947.0</td>\n",
       "      <td>-9.201051</td>\n",
       "      <td>3.860815</td>\n",
       "      <td>-60.00000</td>\n",
       "      <td>-11.578000</td>\n",
       "      <td>-8.652000</td>\n",
       "      <td>-6.3230</td>\n",
       "      <td>1.342</td>\n",
       "    </tr>\n",
       "    <tr>\n",
       "      <th>features_mode</th>\n",
       "      <td>9947.0</td>\n",
       "      <td>0.707651</td>\n",
       "      <td>0.454865</td>\n",
       "      <td>0.00000</td>\n",
       "      <td>0.000000</td>\n",
       "      <td>1.000000</td>\n",
       "      <td>1.0000</td>\n",
       "      <td>1.000</td>\n",
       "    </tr>\n",
       "    <tr>\n",
       "      <th>features_speechiness</th>\n",
       "      <td>9947.0</td>\n",
       "      <td>0.071016</td>\n",
       "      <td>0.074831</td>\n",
       "      <td>0.02260</td>\n",
       "      <td>0.033500</td>\n",
       "      <td>0.043300</td>\n",
       "      <td>0.0702</td>\n",
       "      <td>0.934</td>\n",
       "    </tr>\n",
       "    <tr>\n",
       "      <th>features_acousticness</th>\n",
       "      <td>9947.0</td>\n",
       "      <td>0.307054</td>\n",
       "      <td>0.324787</td>\n",
       "      <td>0.00000</td>\n",
       "      <td>0.023400</td>\n",
       "      <td>0.167000</td>\n",
       "      <td>0.5635</td>\n",
       "      <td>0.996</td>\n",
       "    </tr>\n",
       "    <tr>\n",
       "      <th>features_instrumentalness</th>\n",
       "      <td>9947.0</td>\n",
       "      <td>0.106171</td>\n",
       "      <td>0.239799</td>\n",
       "      <td>0.00000</td>\n",
       "      <td>0.000002</td>\n",
       "      <td>0.000315</td>\n",
       "      <td>0.0297</td>\n",
       "      <td>0.993</td>\n",
       "    </tr>\n",
       "    <tr>\n",
       "      <th>features_liveness</th>\n",
       "      <td>9947.0</td>\n",
       "      <td>0.189562</td>\n",
       "      <td>0.153861</td>\n",
       "      <td>0.00829</td>\n",
       "      <td>0.091700</td>\n",
       "      <td>0.129000</td>\n",
       "      <td>0.2460</td>\n",
       "      <td>0.993</td>\n",
       "    </tr>\n",
       "    <tr>\n",
       "      <th>features_valence</th>\n",
       "      <td>9947.0</td>\n",
       "      <td>0.576938</td>\n",
       "      <td>0.246165</td>\n",
       "      <td>0.03270</td>\n",
       "      <td>0.383500</td>\n",
       "      <td>0.592000</td>\n",
       "      <td>0.7800</td>\n",
       "      <td>0.988</td>\n",
       "    </tr>\n",
       "    <tr>\n",
       "      <th>features_tempo</th>\n",
       "      <td>9947.0</td>\n",
       "      <td>121.334395</td>\n",
       "      <td>27.959977</td>\n",
       "      <td>37.11400</td>\n",
       "      <td>100.588500</td>\n",
       "      <td>120.046000</td>\n",
       "      <td>137.3295</td>\n",
       "      <td>217.591</td>\n",
       "    </tr>\n",
       "  </tbody>\n",
       "</table>\n",
       "</div>"
      ],
      "text/plain": [
       "                            count        mean        std       min  \\\n",
       "features_danceability      9947.0    0.565515   0.166720   0.06920   \n",
       "features_energy            9947.0    0.616766   0.233720   0.00002   \n",
       "features_key               9947.0    5.291344   3.542447   0.00000   \n",
       "features_loudness          9947.0   -9.201051   3.860815 -60.00000   \n",
       "features_mode              9947.0    0.707651   0.454865   0.00000   \n",
       "features_speechiness       9947.0    0.071016   0.074831   0.02260   \n",
       "features_acousticness      9947.0    0.307054   0.324787   0.00000   \n",
       "features_instrumentalness  9947.0    0.106171   0.239799   0.00000   \n",
       "features_liveness          9947.0    0.189562   0.153861   0.00829   \n",
       "features_valence           9947.0    0.576938   0.246165   0.03270   \n",
       "features_tempo             9947.0  121.334395  27.959977  37.11400   \n",
       "\n",
       "                                  25%         50%       75%      max  \n",
       "features_danceability        0.451000    0.568000    0.6850    0.988  \n",
       "features_energy              0.450500    0.651000    0.8090    0.998  \n",
       "features_key                 2.000000    5.000000    9.0000   11.000  \n",
       "features_loudness          -11.578000   -8.652000   -6.3230    1.342  \n",
       "features_mode                0.000000    1.000000    1.0000    1.000  \n",
       "features_speechiness         0.033500    0.043300    0.0702    0.934  \n",
       "features_acousticness        0.023400    0.167000    0.5635    0.996  \n",
       "features_instrumentalness    0.000002    0.000315    0.0297    0.993  \n",
       "features_liveness            0.091700    0.129000    0.2460    0.993  \n",
       "features_valence             0.383500    0.592000    0.7800    0.988  \n",
       "features_tempo             100.588500  120.046000  137.3295  217.591  "
      ]
     },
     "execution_count": 178,
     "metadata": {},
     "output_type": "execute_result"
    }
   ],
   "source": [
    "spotify_df1_num.describe().T"
   ]
  },
  {
   "cell_type": "code",
   "execution_count": 179,
   "id": "bed5db32",
   "metadata": {},
   "outputs": [
    {
     "data": {
      "text/html": [
       "<div>\n",
       "<style scoped>\n",
       "    .dataframe tbody tr th:only-of-type {\n",
       "        vertical-align: middle;\n",
       "    }\n",
       "\n",
       "    .dataframe tbody tr th {\n",
       "        vertical-align: top;\n",
       "    }\n",
       "\n",
       "    .dataframe thead th {\n",
       "        text-align: right;\n",
       "    }\n",
       "</style>\n",
       "<table border=\"1\" class=\"dataframe\">\n",
       "  <thead>\n",
       "    <tr style=\"text-align: right;\">\n",
       "      <th></th>\n",
       "      <th>features_danceability</th>\n",
       "      <th>features_energy</th>\n",
       "      <th>features_key</th>\n",
       "      <th>features_loudness</th>\n",
       "      <th>features_mode</th>\n",
       "      <th>features_speechiness</th>\n",
       "      <th>features_acousticness</th>\n",
       "      <th>features_instrumentalness</th>\n",
       "      <th>features_liveness</th>\n",
       "      <th>features_valence</th>\n",
       "      <th>features_tempo</th>\n",
       "    </tr>\n",
       "  </thead>\n",
       "  <tbody>\n",
       "    <tr>\n",
       "      <th>0</th>\n",
       "      <td>-0.500954</td>\n",
       "      <td>0.446000</td>\n",
       "      <td>-1.493772</td>\n",
       "      <td>0.611832</td>\n",
       "      <td>0.642749</td>\n",
       "      <td>-0.520076</td>\n",
       "      <td>1.305372</td>\n",
       "      <td>-0.442774</td>\n",
       "      <td>-0.003653</td>\n",
       "      <td>-0.080997</td>\n",
       "      <td>-0.932501</td>\n",
       "    </tr>\n",
       "    <tr>\n",
       "      <th>1</th>\n",
       "      <td>-0.482958</td>\n",
       "      <td>1.053596</td>\n",
       "      <td>-1.211468</td>\n",
       "      <td>0.045084</td>\n",
       "      <td>0.642749</td>\n",
       "      <td>-0.287541</td>\n",
       "      <td>-0.945410</td>\n",
       "      <td>-0.375214</td>\n",
       "      <td>-0.335138</td>\n",
       "      <td>0.772132</td>\n",
       "      <td>-0.160931</td>\n",
       "    </tr>\n",
       "    <tr>\n",
       "      <th>2</th>\n",
       "      <td>-1.208762</td>\n",
       "      <td>-0.683616</td>\n",
       "      <td>-0.364553</td>\n",
       "      <td>-1.285013</td>\n",
       "      <td>-1.555816</td>\n",
       "      <td>-0.046987</td>\n",
       "      <td>-0.052510</td>\n",
       "      <td>-0.442332</td>\n",
       "      <td>4.760625</td>\n",
       "      <td>-1.632878</td>\n",
       "      <td>1.498095</td>\n",
       "    </tr>\n",
       "    <tr>\n",
       "      <th>3</th>\n",
       "      <td>-1.004817</td>\n",
       "      <td>-0.871885</td>\n",
       "      <td>-1.211468</td>\n",
       "      <td>-0.448878</td>\n",
       "      <td>0.642749</td>\n",
       "      <td>-0.430537</td>\n",
       "      <td>-0.692346</td>\n",
       "      <td>-0.442668</td>\n",
       "      <td>-0.652973</td>\n",
       "      <td>-0.999125</td>\n",
       "      <td>0.437776</td>\n",
       "    </tr>\n",
       "    <tr>\n",
       "      <th>4</th>\n",
       "      <td>-0.285012</td>\n",
       "      <td>0.595760</td>\n",
       "      <td>1.329277</td>\n",
       "      <td>-0.427379</td>\n",
       "      <td>0.642749</td>\n",
       "      <td>0.273752</td>\n",
       "      <td>1.317688</td>\n",
       "      <td>-0.442515</td>\n",
       "      <td>0.828308</td>\n",
       "      <td>1.588697</td>\n",
       "      <td>1.612908</td>\n",
       "    </tr>\n",
       "  </tbody>\n",
       "</table>\n",
       "</div>"
      ],
      "text/plain": [
       "   features_danceability  features_energy  features_key  features_loudness  \\\n",
       "0              -0.500954         0.446000     -1.493772           0.611832   \n",
       "1              -0.482958         1.053596     -1.211468           0.045084   \n",
       "2              -1.208762        -0.683616     -0.364553          -1.285013   \n",
       "3              -1.004817        -0.871885     -1.211468          -0.448878   \n",
       "4              -0.285012         0.595760      1.329277          -0.427379   \n",
       "\n",
       "   features_mode  features_speechiness  features_acousticness  \\\n",
       "0       0.642749             -0.520076               1.305372   \n",
       "1       0.642749             -0.287541              -0.945410   \n",
       "2      -1.555816             -0.046987              -0.052510   \n",
       "3       0.642749             -0.430537              -0.692346   \n",
       "4       0.642749              0.273752               1.317688   \n",
       "\n",
       "   features_instrumentalness  features_liveness  features_valence  \\\n",
       "0                  -0.442774          -0.003653         -0.080997   \n",
       "1                  -0.375214          -0.335138          0.772132   \n",
       "2                  -0.442332           4.760625         -1.632878   \n",
       "3                  -0.442668          -0.652973         -0.999125   \n",
       "4                  -0.442515           0.828308          1.588697   \n",
       "\n",
       "   features_tempo  \n",
       "0       -0.932501  \n",
       "1       -0.160931  \n",
       "2        1.498095  \n",
       "3        0.437776  \n",
       "4        1.612908  "
      ]
     },
     "execution_count": 179,
     "metadata": {},
     "output_type": "execute_result"
    }
   ],
   "source": [
    "# The scale of \"duration_ms\" is much higher than the scale of many other variables!\n",
    "# K-Means is a distance based algorithm: we need to scale / normalize:\n",
    "\n",
    "X_prep = StandardScaler().fit_transform(spotify_df1_num)\n",
    "\n",
    "# scaler = StandardScaler().fit(audio_features)\n",
    "\n",
    "\n",
    "# Now, all features will have the same weight.\n",
    "pd.DataFrame(X_prep,columns=spotify_df1_num.columns).head()\n",
    "\n",
    "#here we have using standardscaler, but we should also try it with min/max scaler to see results"
   ]
  },
  {
   "cell_type": "markdown",
   "id": "a80032ba",
   "metadata": {},
   "source": [
    "### Choosing K"
   ]
  },
  {
   "cell_type": "markdown",
   "id": "3c114dbb",
   "metadata": {},
   "source": [
    "#### Elbow Method\n",
    "so we've built 7 models here (with K ranging between 2 and 9)\n",
    "\n",
    "doesn't yield a very clear optimal k, looks at 5 or 6"
   ]
  },
  {
   "cell_type": "code",
   "execution_count": 182,
   "id": "6085f157",
   "metadata": {},
   "outputs": [
    {
     "data": {
      "text/plain": [
       "Text(0.5, 1.0, 'Elbow Method showing the optimal k')"
      ]
     },
     "execution_count": 182,
     "metadata": {},
     "output_type": "execute_result"
    },
    {
     "data": {
      "image/png": "[encoded data removed]",
      "text/plain": [
       "<Figure size 1152x576 with 1 Axes>"
      ]
     },
     "metadata": {
      "needs_background": "light"
     },
     "output_type": "display_data"
    }
   ],
   "source": [
    "import numpy as np\n",
    "K = range(3, 10)\n",
    "inertia = []\n",
    "\n",
    "for k in K:\n",
    "    kmeans = KMeans(n_clusters=k,\n",
    "                    random_state=1234)\n",
    "    kmeans.fit(X_prep)\n",
    "    inertia.append(kmeans.inertia_)\n",
    "\n",
    "import matplotlib.pyplot as plt\n",
    "%matplotlib inline\n",
    "\n",
    "plt.figure(figsize=(16,8))\n",
    "plt.plot(K, inertia, 'bx-')\n",
    "plt.xlabel('k')\n",
    "plt.ylabel('inertia')\n",
    "plt.xticks(np.arange(min(K), max(K)+1, 1.0))\n",
    "plt.title('Elbow Method showing the optimal k')"
   ]
  },
  {
   "cell_type": "markdown",
   "id": "d41b9e31",
   "metadata": {},
   "source": [
    "### Silhouette score"
   ]
  },
  {
   "cell_type": "markdown",
   "id": "02657d4a",
   "metadata": {},
   "source": [
    "in silhouette score, the higher score the better\n",
    "\n",
    "I prefer to choose optimal k-value as 7"
   ]
  },
  {
   "cell_type": "code",
   "execution_count": 183,
   "id": "e285167b",
   "metadata": {},
   "outputs": [
    {
     "data": {
      "text/plain": [
       "Text(0.5, 1.0, 'Slhouette score showing the optimal k')"
      ]
     },
     "execution_count": 183,
     "metadata": {},
     "output_type": "execute_result"
    },
    {
     "data": {
      "image/png": "[encoded data removed]",
      "text/plain": [
       "<Figure size 1152x576 with 1 Axes>"
      ]
     },
     "metadata": {
      "needs_background": "light"
     },
     "output_type": "display_data"
    }
   ],
   "source": [
    "from sklearn.metrics import silhouette_score\n",
    "K = range(3, 10)\n",
    "silhouette = []\n",
    "\n",
    "for k in K:\n",
    "    kmeans = KMeans(n_clusters=k,\n",
    "                    random_state=1234)\n",
    "    kmeans.fit(X_prep)\n",
    "    silhouette.append(silhouette_score(X_prep, kmeans.predict(X_prep)))\n",
    "\n",
    "\n",
    "plt.figure(figsize=(16,8))\n",
    "plt.plot(K, silhouette, 'bx-')\n",
    "plt.xlabel('k')\n",
    "plt.ylabel('silhouette score')\n",
    "plt.xticks(np.arange(min(K), max(K)+1, 1.0))\n",
    "plt.title('Slhouette score showing the optimal k')"
   ]
  },
  {
   "cell_type": "markdown",
   "id": "2b8ca022",
   "metadata": {},
   "source": [
    "### I choose 7 clusters"
   ]
  },
  {
   "cell_type": "code",
   "execution_count": 196,
   "id": "8d940469",
   "metadata": {},
   "outputs": [
    {
     "data": {
      "text/html": [
       "<style>#sk-container-id-2 {color: black;background-color: white;}#sk-container-id-2 pre{padding: 0;}#sk-container-id-2 div.sk-toggleable {background-color: white;}#sk-container-id-2 label.sk-toggleable__label {cursor: pointer;display: block;width: 100%;margin-bottom: 0;padding: 0.3em;box-sizing: border-box;text-align: center;}#sk-container-id-2 label.sk-toggleable__label-arrow:before {content: \"▸\";float: left;margin-right: 0.25em;color: #696969;}#sk-container-id-2 label.sk-toggleable__label-arrow:hover:before {color: black;}#sk-container-id-2 div.sk-estimator:hover label.sk-toggleable__label-arrow:before {color: black;}#sk-container-id-2 div.sk-toggleable__content {max-height: 0;max-width: 0;overflow: hidden;text-align: left;background-color: #f0f8ff;}#sk-container-id-2 div.sk-toggleable__content pre {margin: 0.2em;color: black;border-radius: 0.25em;background-color: #f0f8ff;}#sk-container-id-2 input.sk-toggleable__control:checked~div.sk-toggleable__content {max-height: 200px;max-width: 100%;overflow: auto;}#sk-container-id-2 input.sk-toggleable__control:checked~label.sk-toggleable__label-arrow:before {content: \"▾\";}#sk-container-id-2 div.sk-estimator input.sk-toggleable__control:checked~label.sk-toggleable__label {background-color: #d4ebff;}#sk-container-id-2 div.sk-label input.sk-toggleable__control:checked~label.sk-toggleable__label {background-color: #d4ebff;}#sk-container-id-2 input.sk-hidden--visually {border: 0;clip: rect(1px 1px 1px 1px);clip: rect(1px, 1px, 1px, 1px);height: 1px;margin: -1px;overflow: hidden;padding: 0;position: absolute;width: 1px;}#sk-container-id-2 div.sk-estimator {font-family: monospace;background-color: #f0f8ff;border: 1px dotted black;border-radius: 0.25em;box-sizing: border-box;margin-bottom: 0.5em;}#sk-container-id-2 div.sk-estimator:hover {background-color: #d4ebff;}#sk-container-id-2 div.sk-parallel-item::after {content: \"\";width: 100%;border-bottom: 1px solid gray;flex-grow: 1;}#sk-container-id-2 div.sk-label:hover label.sk-toggleable__label {background-color: #d4ebff;}#sk-container-id-2 div.sk-serial::before {content: \"\";position: absolute;border-left: 1px solid gray;box-sizing: border-box;top: 0;bottom: 0;left: 50%;z-index: 0;}#sk-container-id-2 div.sk-serial {display: flex;flex-direction: column;align-items: center;background-color: white;padding-right: 0.2em;padding-left: 0.2em;position: relative;}#sk-container-id-2 div.sk-item {position: relative;z-index: 1;}#sk-container-id-2 div.sk-parallel {display: flex;align-items: stretch;justify-content: center;background-color: white;position: relative;}#sk-container-id-2 div.sk-item::before, #sk-container-id-2 div.sk-parallel-item::before {content: \"\";position: absolute;border-left: 1px solid gray;box-sizing: border-box;top: 0;bottom: 0;left: 50%;z-index: -1;}#sk-container-id-2 div.sk-parallel-item {display: flex;flex-direction: column;z-index: 1;position: relative;background-color: white;}#sk-container-id-2 div.sk-parallel-item:first-child::after {align-self: flex-end;width: 50%;}#sk-container-id-2 div.sk-parallel-item:last-child::after {align-self: flex-start;width: 50%;}#sk-container-id-2 div.sk-parallel-item:only-child::after {width: 0;}#sk-container-id-2 div.sk-dashed-wrapped {border: 1px dashed gray;margin: 0 0.4em 0.5em 0.4em;box-sizing: border-box;padding-bottom: 0.4em;background-color: white;}#sk-container-id-2 div.sk-label label {font-family: monospace;font-weight: bold;display: inline-block;line-height: 1.2em;}#sk-container-id-2 div.sk-label-container {text-align: center;}#sk-container-id-2 div.sk-container {/* jupyter's `normalize.less` sets `[hidden] { display: none; }` but bootstrap.min.css set `[hidden] { display: none !important; }` so we also need the `!important` here to be able to override the default hidden behavior on the sphinx rendered scikit-learn.org. See: https://github.com/scikit-learn/scikit-learn/issues/21755 */display: inline-block !important;position: relative;}#sk-container-id-2 div.sk-text-repr-fallback {display: none;}</style><div id=\"sk-container-id-2\" class=\"sk-top-container\"><div class=\"sk-text-repr-fallback\"><pre>KMeans(n_clusters=7, random_state=1234)</pre><b>In a Jupyter environment, please rerun this cell to show the HTML representation or trust the notebook. <br />On GitHub, the HTML representation is unable to render, please try loading this page with nbviewer.org.</b></div><div class=\"sk-container\" hidden><div class=\"sk-item\"><div class=\"sk-estimator sk-toggleable\"><input class=\"sk-toggleable__control sk-hidden--visually\" id=\"sk-estimator-id-2\" type=\"checkbox\" checked><label for=\"sk-estimator-id-2\" class=\"sk-toggleable__label sk-toggleable__label-arrow\">KMeans</label><div class=\"sk-toggleable__content\"><pre>KMeans(n_clusters=7, random_state=1234)</pre></div></div></div></div></div>"
      ],
      "text/plain": [
       "KMeans(n_clusters=7, random_state=1234)"
      ]
     },
     "execution_count": 196,
     "metadata": {},
     "output_type": "execute_result"
    }
   ],
   "source": [
    "from sklearn.cluster import KMeans\n",
    "\n",
    "kmeans = KMeans(n_clusters=7, random_state=1234)\n",
    "kmeans.fit(X_prep)"
   ]
  },
  {
   "cell_type": "code",
   "execution_count": 185,
   "id": "f8e13090",
   "metadata": {},
   "outputs": [
    {
     "data": {
      "text/plain": [
       "0    2497\n",
       "1    1694\n",
       "2     921\n",
       "3    1967\n",
       "4    1681\n",
       "5     609\n",
       "6     578\n",
       "dtype: int64"
      ]
     },
     "execution_count": 185,
     "metadata": {},
     "output_type": "execute_result"
    }
   ],
   "source": [
    "# Predicting / assigning the clusters:\n",
    "clusters = kmeans.predict(X_prep)\n",
    "\n",
    "# Check the size of the clusters\n",
    "pd.Series(clusters).value_counts().sort_index()"
   ]
  },
  {
   "cell_type": "code",
   "execution_count": 186,
   "id": "e3813a71",
   "metadata": {},
   "outputs": [
    {
     "data": {
      "text/plain": [
       "array([0, 0, 6, ..., 5, 1, 0])"
      ]
     },
     "execution_count": 186,
     "metadata": {},
     "output_type": "execute_result"
    }
   ],
   "source": [
    "clusters   #this is now an array of all the songs assigned a cluster "
   ]
  },
  {
   "cell_type": "code",
   "execution_count": 187,
   "id": "f924b2a6",
   "metadata": {},
   "outputs": [
    {
     "data": {
      "image/png": "[encoded data removed]",
      "text/plain": [
       "<Figure size 360x360 with 1 Axes>"
      ]
     },
     "metadata": {
      "needs_background": "light"
     },
     "output_type": "display_data"
    }
   ],
   "source": [
    "# Plotting first column with 4th \n",
    "# visualizing column 0 and column 4\n",
    "\n",
    "# plt.figure(figsize=(5, 5))\n",
    "# plt.scatter(X_prep[:, 0], X_prep[:, 3], c=clusters,alpha=0.5) #visualizing column 0 and column 4\n",
    "# plt.show()"
   ]
  },
  {
   "cell_type": "code",
   "execution_count": 188,
   "id": "ee433c19",
   "metadata": {},
   "outputs": [
    {
     "data": {
      "image/png": "[encoded data removed]",
      "text/plain": [
       "<Figure size 360x360 with 1 Axes>"
      ]
     },
     "metadata": {
      "needs_background": "light"
     },
     "output_type": "display_data"
    }
   ],
   "source": [
    "#Plotting first column with 2nd\n",
    "\n",
    "# plt.figure(figsize=(5, 5))\n",
    "# plt.scatter(X_prep[:, 0], X_prep[:, 1], c=clusters,alpha=0.5) #visualizing column 0 and column 2\n",
    "# plt.show()"
   ]
  },
  {
   "cell_type": "code",
   "execution_count": 189,
   "id": "1fe1b773",
   "metadata": {},
   "outputs": [
    {
     "data": {
      "text/plain": [
       "64126.297889198875"
      ]
     },
     "execution_count": 189,
     "metadata": {},
     "output_type": "execute_result"
    }
   ],
   "source": [
    "# With k = 7, the intertia scores are very close. \n",
    "# Instruction given: don’t waste time on parameters /number of clusters for now - use defaults\n",
    "\n",
    "kmeans.inertia_ "
   ]
  },
  {
   "cell_type": "code",
   "execution_count": 191,
   "id": "53c4afa9",
   "metadata": {},
   "outputs": [
    {
     "name": "stdout",
     "output_type": "stream",
     "text": [
      "64134.07807255264\n"
     ]
    }
   ],
   "source": [
    "kmeans = KMeans(n_clusters=7,\n",
    "                init=\"random\",\n",
    "                n_init=100,\n",
    "                max_iter=10,\n",
    "                tol=0,\n",
    "                random_state=69)\n",
    "kmeans.fit(X_prep)\n",
    "print(kmeans.inertia_)"
   ]
  },
  {
   "cell_type": "markdown",
   "id": "7b1b9bd8",
   "metadata": {},
   "source": [
    "### Concatenating the file (audio features + artists + songs)"
   ]
  },
  {
   "cell_type": "code",
   "execution_count": 193,
   "id": "9be15342",
   "metadata": {},
   "outputs": [],
   "source": [
    "spotify_concat = pd.concat([spotify_df, spotify_df1_num], axis=1)"
   ]
  },
  {
   "cell_type": "code",
   "execution_count": null,
   "id": "cb46e67b",
   "metadata": {},
   "outputs": [],
   "source": [
    "spotify_concat.head(5)"
   ]
  },
  {
   "cell_type": "code",
   "execution_count": 199,
   "id": "1029ed4a",
   "metadata": {},
   "outputs": [],
   "source": [
    "spotify_concat=spotify_concat.dropna()"
   ]
  },
  {
   "cell_type": "markdown",
   "id": "d331dc70",
   "metadata": {},
   "source": [
    "#### 1. Cluster the songs you collected:\n",
    "- scale the audio features of your songs. this should create an object called scaler  (store it, you’re gonna need it in the future) and an array with \n",
    "scaled features, let’s call it X_scaled\n",
    "- this process should only be done once, not every time a song is inputed! However, you are going to need the clustered dataframe X , the scaler, \n",
    "and the kmeans model to be loaded in your environment (i.e. notebook) when the user inputs a song. Tip: consider doing this through creating a module and loading it from another notebook."
   ]
  },
  {
   "cell_type": "code",
   "execution_count": 192,
   "id": "fb74116a",
   "metadata": {},
   "outputs": [],
   "source": [
    "# initialize a KMeans model with kmeans = KMeans(random_state=1234)\n",
    "# (don’t waste time on parameters /number of clusters for now - use defaults!)\n",
    "# fit the model to your data using kmeans.fit(X_scaled)\n",
    "\n",
    "kmeans = KMeans(random_state=1234)"
   ]
  },
  {
   "cell_type": "code",
   "execution_count": 200,
   "id": "3c2a6825",
   "metadata": {},
   "outputs": [
    {
     "name": "stderr",
     "output_type": "stream",
     "text": [
      "C:\\Users\\gau82\\AppData\\Local\\Temp\\ipykernel_12440\\2943770794.py:4: SettingWithCopyWarning: \n",
      "A value is trying to be set on a copy of a slice from a DataFrame.\n",
      "Try using .loc[row_indexer,col_indexer] = value instead\n",
      "\n",
      "See the caveats in the documentation: https://pandas.pydata.org/pandas-docs/stable/user_guide/indexing.html#returning-a-view-versus-a-copy\n",
      "  spotify_concat[\"cluster\"] = kmeans.predict(X_prep)\n"
     ]
    }
   ],
   "source": [
    "# create a column called cluster in your original dataframe, with the assigned cluster, \n",
    "# using X[\"cluster\"] = kmeans.predict(input_song)\n",
    "\n",
    "spotify_concat[\"cluster\"] = kmeans.predict(X_prep)"
   ]
  },
  {
   "cell_type": "code",
   "execution_count": 201,
   "id": "0336f838",
   "metadata": {},
   "outputs": [
    {
     "data": {
      "text/html": [
       "<div>\n",
       "<style scoped>\n",
       "    .dataframe tbody tr th:only-of-type {\n",
       "        vertical-align: middle;\n",
       "    }\n",
       "\n",
       "    .dataframe tbody tr th {\n",
       "        vertical-align: top;\n",
       "    }\n",
       "\n",
       "    .dataframe thead th {\n",
       "        text-align: right;\n",
       "    }\n",
       "</style>\n",
       "<table border=\"1\" class=\"dataframe\">\n",
       "  <thead>\n",
       "    <tr style=\"text-align: right;\">\n",
       "      <th></th>\n",
       "      <th>song</th>\n",
       "      <th>artist</th>\n",
       "      <th>uri</th>\n",
       "      <th>features_danceability</th>\n",
       "      <th>features_energy</th>\n",
       "      <th>features_key</th>\n",
       "      <th>features_loudness</th>\n",
       "      <th>features_mode</th>\n",
       "      <th>features_speechiness</th>\n",
       "      <th>features_acousticness</th>\n",
       "      <th>features_instrumentalness</th>\n",
       "      <th>features_liveness</th>\n",
       "      <th>features_valence</th>\n",
       "      <th>features_tempo</th>\n",
       "      <th>cluster</th>\n",
       "    </tr>\n",
       "  </thead>\n",
       "  <tbody>\n",
       "    <tr>\n",
       "      <th>0</th>\n",
       "      <td>Like a Rolling Stone</td>\n",
       "      <td>Bob Dylan</td>\n",
       "      <td>spotify:track:3AhXZa8sUQht0UEdBJgpGc</td>\n",
       "      <td>0.482</td>\n",
       "      <td>0.721</td>\n",
       "      <td>0.0</td>\n",
       "      <td>-6.839</td>\n",
       "      <td>1.0</td>\n",
       "      <td>0.0321</td>\n",
       "      <td>0.731000</td>\n",
       "      <td>0.000000</td>\n",
       "      <td>0.1890</td>\n",
       "      <td>0.557</td>\n",
       "      <td>95.263</td>\n",
       "      <td>0</td>\n",
       "    </tr>\n",
       "    <tr>\n",
       "      <th>1</th>\n",
       "      <td>Smells Like Teen Spirit</td>\n",
       "      <td>Nirvana</td>\n",
       "      <td>spotify:track:3oTlkzk1OtrhH8wBAduVEi</td>\n",
       "      <td>0.485</td>\n",
       "      <td>0.863</td>\n",
       "      <td>1.0</td>\n",
       "      <td>-9.027</td>\n",
       "      <td>1.0</td>\n",
       "      <td>0.0495</td>\n",
       "      <td>0.000012</td>\n",
       "      <td>0.016200</td>\n",
       "      <td>0.1380</td>\n",
       "      <td>0.767</td>\n",
       "      <td>116.835</td>\n",
       "      <td>0</td>\n",
       "    </tr>\n",
       "    <tr>\n",
       "      <th>2</th>\n",
       "      <td>A Day In The Life - Remastered</td>\n",
       "      <td>The Beatles</td>\n",
       "      <td>spotify:track:3ZFBeIyP41HhnALjxWy1pR</td>\n",
       "      <td>0.364</td>\n",
       "      <td>0.457</td>\n",
       "      <td>4.0</td>\n",
       "      <td>-14.162</td>\n",
       "      <td>0.0</td>\n",
       "      <td>0.0675</td>\n",
       "      <td>0.290000</td>\n",
       "      <td>0.000106</td>\n",
       "      <td>0.9220</td>\n",
       "      <td>0.175</td>\n",
       "      <td>163.219</td>\n",
       "      <td>6</td>\n",
       "    </tr>\n",
       "    <tr>\n",
       "      <th>3</th>\n",
       "      <td>Good Vibrations (Mono)</td>\n",
       "      <td>The Beach Boys</td>\n",
       "      <td>spotify:track:5Qt4Cc66g24QWwGP3YYV9y</td>\n",
       "      <td>0.398</td>\n",
       "      <td>0.413</td>\n",
       "      <td>1.0</td>\n",
       "      <td>-10.934</td>\n",
       "      <td>1.0</td>\n",
       "      <td>0.0388</td>\n",
       "      <td>0.082200</td>\n",
       "      <td>0.000025</td>\n",
       "      <td>0.0891</td>\n",
       "      <td>0.331</td>\n",
       "      <td>133.574</td>\n",
       "      <td>1</td>\n",
       "    </tr>\n",
       "  </tbody>\n",
       "</table>\n",
       "</div>"
      ],
      "text/plain": [
       "                             song          artist  \\\n",
       "0            Like a Rolling Stone       Bob Dylan   \n",
       "1         Smells Like Teen Spirit         Nirvana   \n",
       "2  A Day In The Life - Remastered     The Beatles   \n",
       "3          Good Vibrations (Mono)  The Beach Boys   \n",
       "\n",
       "                                    uri  features_danceability  \\\n",
       "0  spotify:track:3AhXZa8sUQht0UEdBJgpGc                  0.482   \n",
       "1  spotify:track:3oTlkzk1OtrhH8wBAduVEi                  0.485   \n",
       "2  spotify:track:3ZFBeIyP41HhnALjxWy1pR                  0.364   \n",
       "3  spotify:track:5Qt4Cc66g24QWwGP3YYV9y                  0.398   \n",
       "\n",
       "   features_energy  features_key  features_loudness  features_mode  \\\n",
       "0            0.721           0.0             -6.839            1.0   \n",
       "1            0.863           1.0             -9.027            1.0   \n",
       "2            0.457           4.0            -14.162            0.0   \n",
       "3            0.413           1.0            -10.934            1.0   \n",
       "\n",
       "   features_speechiness  features_acousticness  features_instrumentalness  \\\n",
       "0                0.0321               0.731000                   0.000000   \n",
       "1                0.0495               0.000012                   0.016200   \n",
       "2                0.0675               0.290000                   0.000106   \n",
       "3                0.0388               0.082200                   0.000025   \n",
       "\n",
       "   features_liveness  features_valence  features_tempo  cluster  \n",
       "0             0.1890             0.557          95.263        0  \n",
       "1             0.1380             0.767         116.835        0  \n",
       "2             0.9220             0.175         163.219        6  \n",
       "3             0.0891             0.331         133.574        1  "
      ]
     },
     "execution_count": 201,
     "metadata": {},
     "output_type": "execute_result"
    }
   ],
   "source": [
    "spotify_concat.head(4)"
   ]
  },
  {
   "cell_type": "code",
   "execution_count": 204,
   "id": "38fc19a0",
   "metadata": {},
   "outputs": [],
   "source": [
    "spotify_concat.to_csv('spotify_concat.csv', index=False)"
   ]
  },
  {
   "cell_type": "code",
   "execution_count": null,
   "id": "5528ad27",
   "metadata": {},
   "outputs": [],
   "source": []
  },
  {
   "cell_type": "code",
   "execution_count": null,
   "id": "9ac57d48",
   "metadata": {},
   "outputs": [],
   "source": []
  }
 ],
 "metadata": {
  "kernelspec": {
   "display_name": "Python 3 (ipykernel)",
   "language": "python",
   "name": "python3"
  },
  "language_info": {
   "codemirror_mode": {
    "name": "ipython",
    "version": 3
   },
   "file_extension": ".py",
   "mimetype": "text/x-python",
   "name": "python",
   "nbconvert_exporter": "python",
   "pygments_lexer": "ipython3",
   "version": "3.9.12"
  }
 },
 "nbformat": 4,
 "nbformat_minor": 5
}
